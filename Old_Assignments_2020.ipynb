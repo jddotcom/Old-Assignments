{
  "nbformat": 4,
  "nbformat_minor": 0,
  "metadata": {
    "colab": {
      "provenance": [],
      "authorship_tag": "ABX9TyMi6LxFnZ8mLV6MBOn7EPWh",
      "include_colab_link": true
    },
    "kernelspec": {
      "name": "python3",
      "display_name": "Python 3"
    },
    "language_info": {
      "name": "python"
    }
  },
  "cells": [
    {
      "cell_type": "markdown",
      "metadata": {
        "id": "view-in-github",
        "colab_type": "text"
      },
      "source": [
        "<a href=\"https://colab.research.google.com/github/jddotcom/Old-Assignments/blob/main/Old_Assignments_2020.ipynb\" target=\"_parent\"><img src=\"https://colab.research.google.com/assets/colab-badge.svg\" alt=\"Open In Colab\"/></a>"
      ]
    },
    {
      "cell_type": "code",
      "execution_count": 6,
      "metadata": {
        "colab": {
          "base_uri": "https://localhost:8080/"
        },
        "id": "WQHCz9N74qJP",
        "outputId": "cd6ece59-4d2d-488f-c8a9-3e797aa06bc0"
      },
      "outputs": [
        {
          "output_type": "stream",
          "name": "stdout",
          "text": [
            "[77 32 44 14  5 89 75 44 25 11 13 19 48 33 97 89 27 84 56 13 55 43 21 23\n",
            " 96 69 11  8 65 38  2 77 95 35 59 82 86 31 84 48 73 69 89 56 20 62 68 34\n",
            " 27 91  7 90 57 58 57 65 49 15 52 74 49 93 78 47 21 17  3 71 47 56 32 73\n",
            "  4  1 98 36 98 22 19 63 44 34  8 41 58 42 10 72 48 78 69 48 56 64 69 50\n",
            " 28 66 76 72  9 71 11 14 57 54 96 48 78 75  7 94 82 43 90 89  5 72 49 17\n",
            " 71 19 15 78 36 73 83 33 35 92  2 13 19 86 90 10 43 44 70 95 49 17 15 98\n",
            " 54 77 15 75 55 89 89 30 34 92 91 36 17 28 18 40 66 41 99 53 75 20  9 35\n",
            " 36 24 37 38  6 66 37 88 62 59 86 17 26 41 47 70 21 46 54 72 51 32 93 56\n",
            " 37 33 46 93  1 36 54 42 79 43 89 11 98 45 74 35 43 99 52 50 72 95 30 88\n",
            " 12 10 86 36 39  9 83 43 52 19 46 64 73 80 75 35 92 47 23 94 36 60 69 49\n",
            " 81 95 77 72 24 32 12 86 82 16 43 15 34 77 59 52 25 28 56 68 76 56 18 77\n",
            " 93 57 91 89 39 20 65 14 60 65 33 70 73  7 38 95 85 26  3  9 45 36 25 28\n",
            " 10  4 92 45 17 75 97 30 53 56 92]\n"
          ]
        }
      ],
      "source": [
        "#Write a Python program to generate a random number ?\n",
        "\n",
        "import numpy as np\n",
        "from numpy import random\n",
        "print(random.randint(1,100,299))"
      ]
    },
    {
      "cell_type": "code",
      "source": [
        "#Write a Python program to convert Celsius to Farenheit ?\n",
        "\n",
        "def cel_far():\n",
        "  cel= int(input(\"Type the temp in celsius: \"))\n",
        "  print(\"{} celsius is equal to {} farenheit\".format(cel, ((cel*(9/5))+32)))\n",
        "\n",
        "\n",
        "cel_far()\n"
      ],
      "metadata": {
        "colab": {
          "base_uri": "https://localhost:8080/"
        },
        "id": "fm9gWFdw4z-2",
        "outputId": "43e87320-ba1f-47a3-84e9-aa2475ed2979"
      },
      "execution_count": 11,
      "outputs": [
        {
          "output_type": "stream",
          "name": "stdout",
          "text": [
            "Type the temp in celsius: 100\n",
            "100 celsius is equal to 212.0 farenheit\n"
          ]
        }
      ]
    },
    {
      "cell_type": "code",
      "source": [
        "#Write a Python program to display calender ?\n",
        "\n",
        "import calendar\n",
        "\n",
        "def calendar_display():\n",
        "  year=int(input(\"Type the calender year: \"))\n",
        "  print(calendar.calendar(year))\n",
        "\n",
        "calendar_display()"
      ],
      "metadata": {
        "colab": {
          "base_uri": "https://localhost:8080/"
        },
        "id": "SmWu8MZU4z5e",
        "outputId": "f5116b1f-01a7-4501-dad6-7bf5b1b265d7"
      },
      "execution_count": 15,
      "outputs": [
        {
          "output_type": "stream",
          "name": "stdout",
          "text": [
            "Type the calender year: 2345\n",
            "                                  2345\n",
            "\n",
            "      January                   February                   March\n",
            "Mo Tu We Th Fr Sa Su      Mo Tu We Th Fr Sa Su      Mo Tu We Th Fr Sa Su\n",
            " 1  2  3  4  5  6  7                1  2  3  4                1  2  3  4\n",
            " 8  9 10 11 12 13 14       5  6  7  8  9 10 11       5  6  7  8  9 10 11\n",
            "15 16 17 18 19 20 21      12 13 14 15 16 17 18      12 13 14 15 16 17 18\n",
            "22 23 24 25 26 27 28      19 20 21 22 23 24 25      19 20 21 22 23 24 25\n",
            "29 30 31                  26 27 28                  26 27 28 29 30 31\n",
            "\n",
            "       April                      May                       June\n",
            "Mo Tu We Th Fr Sa Su      Mo Tu We Th Fr Sa Su      Mo Tu We Th Fr Sa Su\n",
            "                   1          1  2  3  4  5  6                   1  2  3\n",
            " 2  3  4  5  6  7  8       7  8  9 10 11 12 13       4  5  6  7  8  9 10\n",
            " 9 10 11 12 13 14 15      14 15 16 17 18 19 20      11 12 13 14 15 16 17\n",
            "16 17 18 19 20 21 22      21 22 23 24 25 26 27      18 19 20 21 22 23 24\n",
            "23 24 25 26 27 28 29      28 29 30 31               25 26 27 28 29 30\n",
            "30\n",
            "\n",
            "        July                     August                  September\n",
            "Mo Tu We Th Fr Sa Su      Mo Tu We Th Fr Sa Su      Mo Tu We Th Fr Sa Su\n",
            "                   1             1  2  3  4  5                      1  2\n",
            " 2  3  4  5  6  7  8       6  7  8  9 10 11 12       3  4  5  6  7  8  9\n",
            " 9 10 11 12 13 14 15      13 14 15 16 17 18 19      10 11 12 13 14 15 16\n",
            "16 17 18 19 20 21 22      20 21 22 23 24 25 26      17 18 19 20 21 22 23\n",
            "23 24 25 26 27 28 29      27 28 29 30 31            24 25 26 27 28 29 30\n",
            "30 31\n",
            "\n",
            "      October                   November                  December\n",
            "Mo Tu We Th Fr Sa Su      Mo Tu We Th Fr Sa Su      Mo Tu We Th Fr Sa Su\n",
            " 1  2  3  4  5  6  7                1  2  3  4                      1  2\n",
            " 8  9 10 11 12 13 14       5  6  7  8  9 10 11       3  4  5  6  7  8  9\n",
            "15 16 17 18 19 20 21      12 13 14 15 16 17 18      10 11 12 13 14 15 16\n",
            "22 23 24 25 26 27 28      19 20 21 22 23 24 25      17 18 19 20 21 22 23\n",
            "29 30 31                  26 27 28 29 30            24 25 26 27 28 29 30\n",
            "                                                    31\n",
            "\n"
          ]
        }
      ]
    },
    {
      "cell_type": "code",
      "source": [
        "#Write a Python program to swap two variables without temp variable ?\n",
        "\n",
        "a=int(input(\"Type the value of a: \"))\n",
        "b=int(input(\"Type the value of b: \"))\n",
        "\n",
        "a= a+b\n",
        "b= a-b\n",
        "a= a-b\n",
        "print(\"new value of a: {} and b: {}\".format(a,b))"
      ],
      "metadata": {
        "colab": {
          "base_uri": "https://localhost:8080/"
        },
        "id": "yJm1FnoY4z2E",
        "outputId": "7074f142-53b8-4da6-d3d5-3d99d0f0ed6c"
      },
      "execution_count": 18,
      "outputs": [
        {
          "output_type": "stream",
          "name": "stdout",
          "text": [
            "Type the value of a: 10\n",
            "Type the value of b: 20\n",
            "new value of a: 20 and b: 10\n"
          ]
        }
      ]
    },
    {
      "cell_type": "code",
      "source": [
        "#Write a Python program to check Prime Number ?\n",
        "\n",
        "def prime_num():\n",
        "  flag= False\n",
        "  num= int(input(\"Type the number \"))\n",
        "  for i in range(2,num):\n",
        "    if num % i ==0:\n",
        "      flag = True\n",
        "      break\n",
        "  if (not flag):\n",
        "    print(\"{} is prime number\".format(num))\n",
        "  else:\n",
        "    print(\"{} not a prime number\".format(num))\n",
        "\n",
        "\n",
        "prime_num()\n",
        "\n",
        "\n",
        "\n",
        "\n"
      ],
      "metadata": {
        "colab": {
          "base_uri": "https://localhost:8080/"
        },
        "id": "xqGK16i24zzQ",
        "outputId": "dfd9de10-d9f3-45b0-9276-683723967db5"
      },
      "execution_count": 28,
      "outputs": [
        {
          "output_type": "stream",
          "name": "stdout",
          "text": [
            "Type the number 29\n",
            "29 is prime number\n"
          ]
        }
      ]
    },
    {
      "cell_type": "code",
      "source": [
        "#Write a Python program to print all Prime Numbers in an interval of 1-10000\n",
        "\n",
        "def prime_1000():\n",
        "  n=1000\n",
        "  arr=[]\n",
        "\n",
        "  for i in range(2,n+1):\n",
        "    flag = False\n",
        "    for j in range(2,i):\n",
        "      if i% j ==0:\n",
        "        flag= True\n",
        "        break\n",
        "    if (not flag):\n",
        "        arr.append(i)\n",
        "  return print(arr)\n",
        "\n",
        "print(prime_1000())\n"
      ],
      "metadata": {
        "colab": {
          "base_uri": "https://localhost:8080/"
        },
        "id": "kjcrpRUc4zta",
        "outputId": "29eee427-c0fc-4673-f7eb-0bfafd756af4"
      },
      "execution_count": 35,
      "outputs": [
        {
          "output_type": "stream",
          "name": "stdout",
          "text": [
            "[2, 3, 5, 7, 11, 13, 17, 19, 23, 29, 31, 37, 41, 43, 47, 53, 59, 61, 67, 71, 73, 79, 83, 89, 97, 101, 103, 107, 109, 113, 127, 131, 137, 139, 149, 151, 157, 163, 167, 173, 179, 181, 191, 193, 197, 199, 211, 223, 227, 229, 233, 239, 241, 251, 257, 263, 269, 271, 277, 281, 283, 293, 307, 311, 313, 317, 331, 337, 347, 349, 353, 359, 367, 373, 379, 383, 389, 397, 401, 409, 419, 421, 431, 433, 439, 443, 449, 457, 461, 463, 467, 479, 487, 491, 499, 503, 509, 521, 523, 541, 547, 557, 563, 569, 571, 577, 587, 593, 599, 601, 607, 613, 617, 619, 631, 641, 643, 647, 653, 659, 661, 673, 677, 683, 691, 701, 709, 719, 727, 733, 739, 743, 751, 757, 761, 769, 773, 787, 797, 809, 811, 821, 823, 827, 829, 839, 853, 857, 859, 863, 877, 881, 883, 887, 907, 911, 919, 929, 937, 941, 947, 953, 967, 971, 977, 983, 991, 997]\n",
            "None\n"
          ]
        }
      ]
    },
    {
      "cell_type": "code",
      "source": [
        "#Write a Python Program to print the fibonacci sequence ?\n",
        "\n",
        "# Solution 1: Pre-initialize the list with the correct number of elements:\n",
        "# python\n",
        "\n",
        "def fibonacci_sequence():\n",
        "    num = int(input(\"Type how many numbers you want to see: \"))\n",
        "\n",
        "    if num <= 0:\n",
        "        return []  # Return an empty list if the input is less than or equal to 0\n",
        "\n",
        "    F = [0] * num  # Initialize a list with `num` zeros\n",
        "\n",
        "    if num > 1:\n",
        "        F[1] = 1  # Set the second element to 1\n",
        "\n",
        "    for i in range(2, num):\n",
        "        F[i] = F[i-1] + F[i-2]  # Calculate Fibonacci numbers\n",
        "\n",
        "    return F\n",
        "\n",
        "# Call the function and print the result\n",
        "print(fibonacci_sequence())\n",
        "\n",
        "\n",
        "\n",
        "#Solution 2: Using append() to dynamically add elements:\n",
        "\n",
        "def fibonacci_sequence():\n",
        "    num = int(input(\"Type how many numbers you want to see: \"))\n",
        "\n",
        "    if num <= 0:\n",
        "        return []  # Return an empty list if the input is less than or equal to 0\n",
        "\n",
        "    F = [0, 1]  # Initialize the list with the first two Fibonacci numbers\n",
        "\n",
        "    for i in range(2, num):\n",
        "        F.append(F[i-1] + F[i-2])  # Append the next Fibonacci number\n",
        "\n",
        "    return F\n",
        "\n",
        "# Call the function and print the result\n",
        "print(fibonacci_sequence())\n",
        "\n"
      ],
      "metadata": {
        "colab": {
          "base_uri": "https://localhost:8080/"
        },
        "id": "ImThnC2P4zoy",
        "outputId": "e92c5aad-dd53-4218-9161-4989f93e86a9"
      },
      "execution_count": 40,
      "outputs": [
        {
          "output_type": "stream",
          "name": "stdout",
          "text": [
            "Type how many numbers you want to see: 9\n",
            "[0, 1, 1, 2, 3, 5, 8, 13, 21]\n",
            "Type how many numbers you want to see: 10\n",
            "[0, 1, 1, 2, 3, 5, 8, 13, 21, 34]\n"
          ]
        }
      ]
    },
    {
      "cell_type": "code",
      "source": [
        "def check_Armstrong():\n",
        "    # Input the number\n",
        "    num = int(input(\"Type the number: \"))\n",
        "\n",
        "    # Find the number of digits in the number\n",
        "    j = len(str(num))\n",
        "\n",
        "    # Initialize a variable to accumulate the sum of powers of the digits\n",
        "    b = 0\n",
        "\n",
        "    # Loop through each digit in the number\n",
        "    for i in str(num):\n",
        "        # Convert the character back to an integer and raise it to the power of j\n",
        "        b += int(i) ** j\n",
        "\n",
        "    # Check if the sum is equal to the original number\n",
        "    if num == b:\n",
        "        print(\"Yes\")\n",
        "    else:\n",
        "        print(\"No\")\n",
        "\n",
        "# Call the function to check for Armstrong number\n",
        "check_Armstrong()\n"
      ],
      "metadata": {
        "colab": {
          "base_uri": "https://localhost:8080/"
        },
        "id": "XK--gsUp4zmM",
        "outputId": "6e4a6c90-2cbc-4f68-9675-0f6d4d2dd398"
      },
      "execution_count": 46,
      "outputs": [
        {
          "output_type": "stream",
          "name": "stdout",
          "text": [
            "Type the number: 153\n",
            "Yes\n"
          ]
        }
      ]
    },
    {
      "cell_type": "code",
      "source": [],
      "metadata": {
        "id": "YriaMohW4zjK"
      },
      "execution_count": null,
      "outputs": []
    },
    {
      "cell_type": "code",
      "source": [],
      "metadata": {
        "id": "go0LJ_av4zgP"
      },
      "execution_count": null,
      "outputs": []
    },
    {
      "cell_type": "code",
      "source": [],
      "metadata": {
        "id": "mW0KuhRK4zdb"
      },
      "execution_count": null,
      "outputs": []
    },
    {
      "cell_type": "code",
      "source": [],
      "metadata": {
        "id": "rwtc8aji4zbC"
      },
      "execution_count": null,
      "outputs": []
    },
    {
      "cell_type": "code",
      "source": [],
      "metadata": {
        "id": "lRFOkeC_4zYQ"
      },
      "execution_count": null,
      "outputs": []
    },
    {
      "cell_type": "code",
      "source": [],
      "metadata": {
        "id": "gjAVFqZn4zV1"
      },
      "execution_count": null,
      "outputs": []
    },
    {
      "cell_type": "code",
      "source": [],
      "metadata": {
        "id": "gxNlrHoZ4zTd"
      },
      "execution_count": null,
      "outputs": []
    },
    {
      "cell_type": "code",
      "source": [],
      "metadata": {
        "id": "Xu7zOtEb4zQ5"
      },
      "execution_count": null,
      "outputs": []
    },
    {
      "cell_type": "code",
      "source": [],
      "metadata": {
        "id": "3U97G0Cx4zOM"
      },
      "execution_count": null,
      "outputs": []
    },
    {
      "cell_type": "code",
      "source": [],
      "metadata": {
        "id": "kdJzmLy54zL4"
      },
      "execution_count": null,
      "outputs": []
    },
    {
      "cell_type": "code",
      "source": [],
      "metadata": {
        "id": "FKZhmZlX4zJS"
      },
      "execution_count": null,
      "outputs": []
    },
    {
      "cell_type": "code",
      "source": [],
      "metadata": {
        "id": "v8c6ysQY4zGa"
      },
      "execution_count": null,
      "outputs": []
    },
    {
      "cell_type": "code",
      "source": [],
      "metadata": {
        "id": "4tQCfcst4zEB"
      },
      "execution_count": null,
      "outputs": []
    },
    {
      "cell_type": "code",
      "source": [],
      "metadata": {
        "id": "GWVLS9Xz4zBT"
      },
      "execution_count": null,
      "outputs": []
    },
    {
      "cell_type": "code",
      "source": [],
      "metadata": {
        "id": "8HloJFCO4y9o"
      },
      "execution_count": null,
      "outputs": []
    },
    {
      "cell_type": "code",
      "source": [],
      "metadata": {
        "id": "eEut9Ah44y5a"
      },
      "execution_count": null,
      "outputs": []
    },
    {
      "cell_type": "code",
      "source": [],
      "metadata": {
        "id": "nU7FGsNi4y24"
      },
      "execution_count": null,
      "outputs": []
    },
    {
      "cell_type": "code",
      "source": [],
      "metadata": {
        "id": "unk6xnFc4y0o"
      },
      "execution_count": null,
      "outputs": []
    },
    {
      "cell_type": "code",
      "source": [],
      "metadata": {
        "id": "YEK1BMrk4yyH"
      },
      "execution_count": null,
      "outputs": []
    },
    {
      "cell_type": "code",
      "source": [],
      "metadata": {
        "id": "dLjqt8nc4yvq"
      },
      "execution_count": null,
      "outputs": []
    }
  ]
}